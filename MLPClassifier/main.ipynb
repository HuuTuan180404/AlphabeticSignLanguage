{
 "cells": [
  {
   "cell_type": "code",
   "id": "initial_id",
   "metadata": {
    "collapsed": true,
    "ExecuteTime": {
     "end_time": "2025-05-29T02:20:10.496189Z",
     "start_time": "2025-05-29T02:20:01.306417Z"
    }
   },
   "source": [
    "import os\n",
    "import cv2\n",
    "import pickle\n",
    "import numpy as np\n",
    "import mediapipe as mp\n",
    "import matplotlib.pyplot as plt\n",
    "from sklearn.metrics import classification_report, confusion_matrix, precision_score, recall_score, f1_score,accuracy_score\n",
    "from sklearn.neural_network import MLPClassifier\n",
    "from sklearn.model_selection import train_test_split"
   ],
   "outputs": [],
   "execution_count": 1
  },
  {
   "metadata": {},
   "cell_type": "markdown",
   "source": "****",
   "id": "97a4197b52dbea19"
  },
  {
   "metadata": {},
   "cell_type": "markdown",
   "source": "**INITIALIZE**",
   "id": "e8fb1ba7ef66b495"
  },
  {
   "metadata": {},
   "cell_type": "code",
   "source": "DATASET_PATH='../create_dataset/dataset'",
   "id": "9e41fd0d6c2164e8",
   "outputs": [],
   "execution_count": null
  },
  {
   "metadata": {
    "ExecuteTime": {
     "end_time": "2025-05-29T02:20:14.229390Z",
     "start_time": "2025-05-29T02:20:14.225913Z"
    }
   },
   "cell_type": "code",
   "source": [
    "mp_hands = mp.solutions.hands\n",
    "mp_drawing = mp.solutions.drawing_utils"
   ],
   "id": "81641588f5efc0ee",
   "outputs": [],
   "execution_count": 2
  },
  {
   "metadata": {},
   "cell_type": "markdown",
   "source": "****",
   "id": "75ef2f10d0228cb8"
  },
  {
   "metadata": {},
   "cell_type": "markdown",
   "source": "**TRAIN DATA**",
   "id": "468489ebf5ad88"
  },
  {
   "metadata": {},
   "cell_type": "code",
   "source": [
    "DATA = []\n",
    "LABELS = []\n",
    "hands = mp_hands.Hands(static_image_mode=True, min_detection_confidence=0.4)\n",
    "for label in os.listdir(DATASET_PATH):\n",
    "    print('Dang xu ly class: ' + label)\n",
    "    for img_file in os.listdir(os.path.join(DATASET_PATH, label)):\n",
    "        img_path = os.path.join(DATASET_PATH, label, img_file)\n",
    "        img = cv2.imread(img_path)\n",
    "        # img = cv2.resize(img, (180, 180))\n",
    "        img_rgb = cv2.cvtColor(img, cv2.COLOR_BGR2RGB)\n",
    "\n",
    "        result = hands.process(img_rgb)\n",
    "        if result.multi_hand_landmarks:\n",
    "            for hand_landmarks in result.multi_hand_landmarks:\n",
    "                data_aux = []\n",
    "                for lm in hand_landmarks.landmark:\n",
    "                    data_aux.append(lm.x)\n",
    "                    data_aux.append(lm.y)\n",
    "                LABELS.append(label)\n",
    "                DATA.append(data_aux)\n",
    "        else:\n",
    "            print(f'Không phát hiện tay: {img_path}')\n",
    "hands.close()\n",
    "# Lưu data\n",
    "with open('MLP_data.pickle', 'wb') as f:\n",
    "    pickle.dump({'data': DATA, 'labels': LABELS}, f)"
   ],
   "id": "7298b029a3517068",
   "outputs": [],
   "execution_count": null
  },
  {
   "metadata": {},
   "cell_type": "markdown",
   "source": "****",
   "id": "8636c0c41359435e"
  },
  {
   "metadata": {},
   "cell_type": "markdown",
   "source": "**ĐÁNH GIÁ**",
   "id": "7d967d47771f343e"
  },
  {
   "metadata": {},
   "cell_type": "code",
   "source": [
    "data_dict = pickle.load(open('MLP_data.pickle', 'rb'))\n",
    "DATA = data_dict['data']\n",
    "LABELS = data_dict['labels']\n",
    "\n",
    "x_train, x_test, y_train, y_test = train_test_split(DATA, LABELS, test_size=0.3, shuffle=True, stratify=LABELS)\n",
    "\n",
    "model = MLPClassifier(hidden_layer_sizes=(128, 64), max_iter=1000, random_state=42)\n",
    "model.fit(x_train, y_train)\n",
    "\n",
    "y_pred = model.predict(x_test)"
   ],
   "id": "d8bef573c26fc7a9",
   "outputs": [],
   "execution_count": null
  },
  {
   "metadata": {},
   "cell_type": "markdown",
   "source": "*Độ chính xác*",
   "id": "4a0ed74e205afd89"
  },
  {
   "metadata": {},
   "cell_type": "code",
   "source": "print('Accuracy:', accuracy_score(y_test, y_pred) * 100, '%')",
   "id": "6df5c2ad3c5475a2",
   "outputs": [],
   "execution_count": null
  },
  {
   "metadata": {},
   "cell_type": "markdown",
   "source": "*Đánh giá từng chỉ số*",
   "id": "faa1564cd043e24f"
  },
  {
   "metadata": {},
   "cell_type": "code",
   "source": [
    "# Đánh giá từng chỉ số\n",
    "precision = precision_score(y_test, y_pred, average='weighted')\n",
    "recall = recall_score(y_test, y_pred, average='weighted')\n",
    "f1 = f1_score(y_test, y_pred, average='weighted')\n",
    "\n",
    "print(\"🔸 Precision:\", round(precision * 100, 2), \"%\")\n",
    "print(\"🔸 Recall:\", round(recall * 100, 2), \"%\")\n",
    "print(\"🔸 F1 Score:\", round(f1 * 100, 2), \"%\")"
   ],
   "id": "426d2822c1f93d14",
   "outputs": [],
   "execution_count": null
  },
  {
   "metadata": {},
   "cell_type": "markdown",
   "source": "*Ma trận sai lầm*",
   "id": "e23e9151975345bf"
  },
  {
   "metadata": {},
   "cell_type": "code",
   "source": [
    "# in ma trận sai lầm\n",
    "with open('ConfusionMatrix.txt', 'w') as f:\n",
    "    f.write(str(confusion_matrix(y_test, y_pred)))"
   ],
   "id": "88121c9640be36b6",
   "outputs": [],
   "execution_count": null
  },
  {
   "metadata": {},
   "cell_type": "markdown",
   "source": "*Ma trận sai lầm*",
   "id": "d376dfe05b30f381"
  },
  {
   "metadata": {},
   "cell_type": "code",
   "source": [
    "# báo cáo chi tiết theo từng lớp\n",
    "with open('ClassificationReport.txt', 'w') as f:\n",
    "    f.write(str(classification_report(y_test, y_pred)))"
   ],
   "id": "edd1ac4f397c5187",
   "outputs": [],
   "execution_count": null
  },
  {
   "metadata": {},
   "cell_type": "markdown",
   "source": "*Biểu đồ chính xác theo từng lớp*",
   "id": "5186a300d1560eb8"
  },
  {
   "metadata": {},
   "cell_type": "code",
   "source": [
    "cm = confusion_matrix(y_test, y_pred)\n",
    "per_class_acc = cm.diagonal() / cm.sum(axis=1)\n",
    "\n",
    "plt.figure(figsize=(10, 5))\n",
    "plt.bar(np.unique(y_test), per_class_acc, color='skyblue')\n",
    "plt.xlabel('Class Labels')\n",
    "plt.ylabel('Accuracy')\n",
    "plt.title('Per-class Accuracy')\n",
    "plt.ylim([0, 1])\n",
    "plt.grid(True, linestyle='--', alpha=0.5)\n",
    "plt.show()\n"
   ],
   "id": "d5e273bc8aaa5be2",
   "outputs": [],
   "execution_count": null
  },
  {
   "metadata": {},
   "cell_type": "markdown",
   "source": "****",
   "id": "300203270f73b210"
  },
  {
   "metadata": {},
   "cell_type": "markdown",
   "source": "**SAVE MODEL**",
   "id": "3df099b65ab5e634"
  },
  {
   "metadata": {},
   "cell_type": "code",
   "source": [
    "# lưu model\n",
    "with open('MLP_model.p', 'wb') as f:\n",
    "    pickle.dump(model, f)"
   ],
   "id": "b0c2950977b89d2",
   "outputs": [],
   "execution_count": null
  },
  {
   "metadata": {},
   "cell_type": "markdown",
   "source": "****",
   "id": "b46eca62a435b8e9"
  },
  {
   "metadata": {},
   "cell_type": "markdown",
   "source": "**TEST WITH CAMERA**",
   "id": "f70133198238e47b"
  },
  {
   "metadata": {
    "ExecuteTime": {
     "end_time": "2025-05-29T02:21:12.913679Z",
     "start_time": "2025-05-29T02:20:21.179034Z"
    }
   },
   "cell_type": "code",
   "source": [
    "hands = mp_hands.Hands(static_image_mode=False, min_detection_confidence=0.7)\n",
    "model = pickle.load(open('MLP_model.p', 'rb'))\n",
    "\n",
    "num_classes = len(model.classes_)\n",
    "\n",
    "cap = cv2.VideoCapture(0)\n",
    "\n",
    "while True:\n",
    "    x_ = []\n",
    "    y_ = []\n",
    "    ret, frame = cap.read()\n",
    "    H, W, _ = frame.shape\n",
    "    frame_rgb = cv2.cvtColor(frame, cv2.COLOR_BGR2RGB)\n",
    "    results = hands.process(frame_rgb)\n",
    "\n",
    "    if results.multi_hand_landmarks:\n",
    "        for hand_landmarks in results.multi_hand_landmarks:\n",
    "            mp_drawing.draw_landmarks(frame,\n",
    "                                      hand_landmarks,\n",
    "                                      mp_hands.HAND_CONNECTIONS)\n",
    "\n",
    "            data_aux = []\n",
    "            for lm in hand_landmarks.landmark:\n",
    "                data_aux.append(lm.x)\n",
    "                data_aux.append(lm.y)\n",
    "                x_.append(lm.x)\n",
    "                y_.append(lm.y)\n",
    "\n",
    "        x1 = int(min(x_) * W)\n",
    "        y1 = int(min(y_) * H)\n",
    "        x2 = int(max(x_) * W)\n",
    "        y2 = int(max(y_) * H)\n",
    "\n",
    "        prediction = model.predict([np.array(data_aux)])\n",
    "        probs = model.predict_proba([np.asarray(data_aux)])[0]\n",
    "        current_class = prediction[0]\n",
    "\n",
    "        cv2.putText(frame, prediction[0], (x1, y1 - 10), cv2.FONT_HERSHEY_SIMPLEX, 1, (0, 255, 0), 2)\n",
    "\n",
    "    panel_height = max(H, num_classes * 30)\n",
    "    output_panel = np.ones((panel_height, 250, 3), dtype=np.uint8) * 255\n",
    "\n",
    "    if results.multi_hand_landmarks:\n",
    "        label_probs = list(zip(model.classes_, probs))\n",
    "        label_probs.sort(key=lambda x: x[1], reverse=True)\n",
    "\n",
    "        for idx, (label, prob) in enumerate(label_probs):\n",
    "            y_pos = 50 + idx * 24\n",
    "            cv2.putText(output_panel, f\"{label}: {prob * 100:.2f}%\", (10, y_pos), cv2.FONT_HERSHEY_SIMPLEX, 0.4, (0, 0, 0), 1)\n",
    "\n",
    "    frame_resized = cv2.resize(frame, (W, panel_height))\n",
    "    combined = np.hstack((frame_resized, output_panel))\n",
    "    cv2.imshow('Realtime Hand Detection', combined)\n",
    "\n",
    "    if cv2.waitKey(1) & 0xFF == 27:\n",
    "        break\n",
    "\n",
    "cap.release()\n",
    "cv2.destroyAllWindows()"
   ],
   "id": "89ce496b5df486d2",
   "outputs": [],
   "execution_count": 3
  },
  {
   "metadata": {},
   "cell_type": "code",
   "source": "",
   "id": "69243e7efd07599d",
   "outputs": [],
   "execution_count": null
  }
 ],
 "metadata": {
  "kernelspec": {
   "display_name": "Python 3",
   "language": "python",
   "name": "python3"
  },
  "language_info": {
   "codemirror_mode": {
    "name": "ipython",
    "version": 2
   },
   "file_extension": ".py",
   "mimetype": "text/x-python",
   "name": "python",
   "nbconvert_exporter": "python",
   "pygments_lexer": "ipython2",
   "version": "2.7.6"
  }
 },
 "nbformat": 4,
 "nbformat_minor": 5
}
